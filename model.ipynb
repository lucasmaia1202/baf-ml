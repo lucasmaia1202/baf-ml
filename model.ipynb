{
 "cells": [
  {
   "cell_type": "code",
   "execution_count": 1,
   "metadata": {},
   "outputs": [],
   "source": [
    "import numpy as np\n",
    "import matplotlib.pyplot as plt\n",
    "import pandas as pd\n",
    "import seaborn as sns\n",
    "from utils import eda\n",
    "from random import randint"
   ]
  },
  {
   "cell_type": "code",
   "execution_count": 2,
   "metadata": {},
   "outputs": [],
   "source": [
    "data = pd.read_csv(\"./ecd1-2023/dataset_train.csv\")"
   ]
  },
  {
   "cell_type": "code",
   "execution_count": 3,
   "metadata": {},
   "outputs": [
    {
     "name": "stdout",
     "output_type": "stream",
     "text": [
      "SEED:  194\n",
      "Features:  ['employment_status', 'prev_address_months_count', 'velocity_24h', 'has_other_cards', 'email_is_free', 'days_since_request', 'device_os', 'zip_count_4w', 'name_email_similarity', 'session_length_in_minutes', 'month', 'credit_risk_score', 'phone_home_valid', 'current_address_months_count', 'payment_type', 'recent_loan_approval_ratio', 'velocity_4w', 'housing_status', 'customer_age', 'velocity_6h', 'bank_branch_count_8w', 'income', 'transaction_amount_ratio', 'phone_mobile_valid', 'date_of_birth_distinct_emails_4w', 'device_distinct_emails_8w', 'foreign_request', 'proposed_credit_limit', 'bank_months_count', 'keep_alive_session', 'intended_balcon_amount', 'distance_to_nearest_bank_branch', 'device_fraud_count', 'credit_utilization_ratio', 'source']\n",
      "Target:  fraud_bool\n",
      "Categorical features:  ['employment_status', 'device_os', 'payment_type', 'housing_status', 'source']\n",
      "Numeric features:  ['prev_address_months_count', 'velocity_24h', 'has_other_cards', 'email_is_free', 'days_since_request', 'zip_count_4w', 'name_email_similarity', 'session_length_in_minutes', 'month', 'credit_risk_score', 'phone_home_valid', 'current_address_months_count', 'recent_loan_approval_ratio', 'velocity_4w', 'customer_age', 'velocity_6h', 'bank_branch_count_8w', 'income', 'transaction_amount_ratio', 'phone_mobile_valid', 'date_of_birth_distinct_emails_4w', 'device_distinct_emails_8w', 'foreign_request', 'proposed_credit_limit', 'bank_months_count', 'keep_alive_session', 'intended_balcon_amount', 'distance_to_nearest_bank_branch', 'device_fraud_count', 'credit_utilization_ratio']\n"
     ]
    }
   ],
   "source": [
    "SEED = randint(0, 1000)\n",
    "COLUMNS_TO_DROP = [\"ID\"]\n",
    "TARGET = \"fraud_bool\"\n",
    "FEATURES = list(set(data.columns) - set([TARGET]) - set(COLUMNS_TO_DROP))\n",
    "FEATURES_CATEGORICAL = [col for col in FEATURES if data[col].dtype == 'object']\n",
    "FEATURES_NUMERIC = list(set(FEATURES) - set(FEATURES_CATEGORICAL))\n",
    "\n",
    "print(\"SEED: \", SEED)\n",
    "print(\"Features: \", FEATURES)\n",
    "print(\"Target: \", TARGET)\n",
    "print(\"Categorical features: \", FEATURES_CATEGORICAL)\n",
    "print(\"Numeric features: \", FEATURES_NUMERIC)"
   ]
  },
  {
   "cell_type": "code",
   "execution_count": 4,
   "metadata": {},
   "outputs": [],
   "source": [
    "data = eda.handle_numeric_missing_values(data=data, columns=FEATURES_NUMERIC)\n",
    "data = eda.handle_categorical_missing_values(data=data, columns=FEATURES_CATEGORICAL)"
   ]
  },
  {
   "cell_type": "code",
   "execution_count": 5,
   "metadata": {},
   "outputs": [
    {
     "name": "stdout",
     "output_type": "stream",
     "text": [
      "Encoding column:  employment_status\n",
      "Encoding column:  device_os\n",
      "Encoding column:  payment_type\n",
      "Encoding column:  housing_status\n",
      "Encoding column:  source\n"
     ]
    }
   ],
   "source": [
    "from sklearn.preprocessing import MinMaxScaler\n",
    "\n",
    "data, new_cols = eda.handle_one_hot_encoding(data=data, columns=FEATURES_CATEGORICAL)\n",
    "FEATURES_CATEGORICAL = new_cols\n",
    "data = eda.handle_scaling(data=data, columns=FEATURES_NUMERIC, scaler=MinMaxScaler())"
   ]
  },
  {
   "cell_type": "code",
   "execution_count": 6,
   "metadata": {},
   "outputs": [
    {
     "name": "stdout",
     "output_type": "stream",
     "text": [
      "x_train: (56000, 56); Counter({0: 45473, 1: 10527}) imb: 0.2315000109955358\n",
      "x_test: (14000, 56); Counter({0: 11368, 1: 2632}) imb: 0.2315270935960591\n"
     ]
    }
   ],
   "source": [
    "# Training and Testing Sets\n",
    "from collections import Counter\n",
    "from sklearn.model_selection import train_test_split\n",
    "\n",
    "x = data[FEATURES_NUMERIC + FEATURES_CATEGORICAL]\n",
    "\n",
    "y = data[TARGET]\n",
    "x_train, x_test, y_train, y_test = train_test_split(\n",
    "    x,\n",
    "    y,\n",
    "    test_size=0.20,\n",
    "    random_state=SEED,\n",
    "    stratify=y,\n",
    ")\n",
    "\n",
    "print(f\"x_train: {x_train.shape}; {Counter(y_train)} imb: {Counter(y_train)[1]/Counter(y_train)[0]}\")\n",
    "print(f\"x_test: {x_test.shape}; {Counter(y_test)} imb: {Counter(y_test)[1]/Counter(y_test)[0]}\")\n",
    "\n",
    "# x_train: (56000, 56); Counter({0: 45473, 1: 10527}) imb: 0.2315000109955358\n",
    "# x_test: (14000, 56); Counter({0: 11368, 1: 2632}) imb: 0.2315270935960591"
   ]
  },
  {
   "cell_type": "code",
   "execution_count": 7,
   "metadata": {},
   "outputs": [],
   "source": [
    "# from sklearn.ensemble import IsolationForest\n",
    "\n",
    "\n",
    "# train = pd.concat([x_train, y_train], axis=1)\n",
    "# x_train_0 = train[train[TARGET] == 0].drop(TARGET, axis=1)\n",
    "# x_train_1 = train[train[TARGET] == 1].drop(TARGET, axis=1)\n",
    "# print(x_train_0.shape)\n",
    "# print(x_train_1.shape)\n",
    "\n",
    "# od0 = IsolationForest(random_state=SEED, bootstrap=True).fit(x_train_0)\n",
    "# od1 = IsolationForest(random_state=SEED, bootstrap=True).fit(x_train_1)\n",
    "\n",
    "# x_train_0[\"is_outlier\"] = od0.predict(x_train_0)\n",
    "# x_train_0[\"is_outlier\"] = x_train_0[\"is_outlier\"].apply(lambda x: 1 if x == -1 else 0)\n",
    "# x_train_1[\"is_outlier\"] = od1.predict(x_train_1)\n",
    "# x_train_1[\"is_outlier\"] = x_train_1[\"is_outlier\"].apply(lambda x: 1 if x == -1 else 0)\n",
    "\n",
    "# print(\"X_train_0:\", x_train_0[\"is_outlier\"].value_counts())\n",
    "# print(\"X_train_1:\", x_train_1[\"is_outlier\"].value_counts())\n",
    "\n",
    "# x_train_0 = x_train_0[x_train_0[\"is_outlier\"] == 1].drop(\"is_outlier\", axis=1)\n",
    "# x_train_0[TARGET] = 0\n",
    "# x_train_1 = x_train_1[x_train_1[\"is_outlier\"] == 1].drop(\"is_outlier\", axis=1)\n",
    "# x_train_1[TARGET] = 1\n",
    "\n",
    "# print(\"X_train_0:\", x_train_0.shape)\n",
    "# print(\"X_train_1:\", x_train_1.shape)\n",
    "\n",
    "# x_train_new = pd.concat([x_train_0, x_train_1], axis=0)\n",
    "# # mix rows in _new\n",
    "# x_train_new = x_train_new.sample(frac=1).reset_index(drop=True)\n",
    "# x_train_new.head()\n",
    "\n",
    "# y_train = x_train_new[TARGET]\n",
    "# x_train = x_train_new.drop(TARGET, axis=1)\n",
    "\n",
    "\n",
    "# # clf = IsolationForest(random_state=SEED, bootstrap=True).fit(x_train)\n",
    "# # x_train[\"is_outlier\"] = clf.predict(x_train)\n",
    "# # x_train[\"is_outlier\"].value_counts()\n",
    "# # out = x_train[x_train[\"is_outlier\"] == -1].index\n",
    "# # y_train[out].value_counts()"
   ]
  },
  {
   "cell_type": "code",
   "execution_count": 8,
   "metadata": {},
   "outputs": [],
   "source": [
    "# from sklearn.decomposition import PCA\n",
    "\n",
    "# pca = PCA(n_components=5, random_state=SEED)\n",
    "# pca.fit(x_train_new)\n",
    "# x_train_pca = pca.transform(x_train_new)\n",
    "# plt.figure(figsize=(3, 3))\n",
    "# plt.scatter(x_train_pca[:, 1], x_train_pca[:, 3], c=y_train_new, cmap=\"plasma\", s=1)\n",
    "# plt.xlabel(\"PCA 1\")\n",
    "# plt.ylabel(\"PCA 2\")\n",
    "# plt.grid(True)\n",
    "# plt.show()"
   ]
  },
  {
   "cell_type": "code",
   "execution_count": 9,
   "metadata": {},
   "outputs": [],
   "source": [
    "# x_train = x_train.drop(out)\n",
    "# x_train = x_train.drop(\"is_outlier\", axis=1)\n",
    "# y_train = y_train.drop(out)\n",
    "# y_train.value_counts()"
   ]
  },
  {
   "cell_type": "code",
   "execution_count": 10,
   "metadata": {},
   "outputs": [
    {
     "name": "stdout",
     "output_type": "stream",
     "text": [
      "Before Counter({0: 45473, 1: 10527})\n",
      "After Counter({0: 10527, 1: 10527})\n"
     ]
    }
   ],
   "source": [
    "from collections import Counter\n",
    "from imblearn.under_sampling import RandomUnderSampler\n",
    "\n",
    "counter = Counter(y_train)\n",
    "print('Before', counter)\n",
    "\n",
    "rus = RandomUnderSampler(random_state=SEED)\n",
    "x_train_un, y_train_un = rus.fit_resample(x_train, y_train)\n",
    "\n",
    "counter = Counter(y_train_un)\n",
    "print('After', counter)\n",
    "\n",
    "# Before Counter({0: 45473, 1: 10527})\n",
    "# After Counter({0: 10527, 1: 10527})"
   ]
  },
  {
   "cell_type": "code",
   "execution_count": 11,
   "metadata": {},
   "outputs": [],
   "source": [
    "# from utils.score import ScoreClassification\n",
    "# clf = IsolationForest(random_state=SEED, bootstrap=True).fit(x_test)\n",
    "# y_pred = clf.predict(x_test)\n",
    "# y_pred = np.where(y_pred == -1, 1, 0)\n",
    "# print(sum(y_pred))\n",
    "# print(len(y_pred))\n",
    "\n",
    "# score = ScoreClassification()\n",
    "# score.calculate(y_test, y_pred)\n",
    "# print(score)"
   ]
  },
  {
   "cell_type": "code",
   "execution_count": 12,
   "metadata": {},
   "outputs": [],
   "source": [
    "# from sklearn.feature_selection import SelectKBest, f_regression\n",
    "\n",
    "# feature_selector = SelectKBest(k=20, score_func=f_regression)\n",
    "\n",
    "# feature_selector.fit(x_train, y_train)\n",
    "# x_train = feature_selector.transform(x_train)\n",
    "# x_test = feature_selector.transform(x_test)"
   ]
  },
  {
   "cell_type": "code",
   "execution_count": 13,
   "metadata": {},
   "outputs": [],
   "source": [
    "# from sklearn.decomposition import PCA\n",
    "\n",
    "# pca = PCA(n_components=10, random_state=SEED)\n",
    "# pca.fit(x_train)\n",
    "# x_train = pca.transform(x_train)\n",
    "# x_test = pca.transform(x_test)"
   ]
  },
  {
   "cell_type": "code",
   "execution_count": 14,
   "metadata": {},
   "outputs": [],
   "source": [
    "# plt.figure(figsize=(3, 3))\n",
    "# plt.scatter(x_train[:, 3], x_train[:, 5], c=y_train, cmap=\"plasma\", s=1)\n",
    "# plt.xlabel(\"PCA 1\")\n",
    "# plt.ylabel(\"PCA 2\")\n",
    "# plt.grid(True)\n",
    "# plt.show()"
   ]
  },
  {
   "cell_type": "code",
   "execution_count": 15,
   "metadata": {},
   "outputs": [
    {
     "name": "stdout",
     "output_type": "stream",
     "text": [
      "Training model: xgboost\n",
      "Hyper tuning: SeachMethod.BAYES\n",
      "Best params: OrderedDict({'learning_rate': 0.18869253516173146, 'max_depth': 4, 'n_estimators': 216, 'reg_alpha': 1})\n",
      "ScoreClassification(accuracy=0.8885714285714286, precision=0.8884057971014493, recall=0.46580547112462006, f1=0.6111665004985045, auc_roc=0.7261293365475316, kappa=0.5534078417002565, confusion_matrix=array([[11214,   154],\n",
      "       [ 1406,  1226]]))\n"
     ]
    }
   ],
   "source": [
    "from xgboost import XGBClassifier\n",
    "from utils.model import ModelOptimizer, SeachMethod\n",
    "\n",
    "search_space = {\n",
    "    \"n_estimators\": (50, 500),\n",
    "    \"max_depth\": (1, 20),\n",
    "    \"learning_rate\": (0.01, 0.5, \"log-uniform\"),\n",
    "    \"reg_alpha\": (0, 1),\n",
    "}\n",
    "\n",
    "# search_space_grid = {\n",
    "#     \"n_estimators\": [10, 50, 100, 200],\n",
    "#     \"max_depth\": [1, 5, 10, 20, None],\n",
    "#     \"learning_rate\": [0.01, 0.1, 0.5],\n",
    "#     \"reg_alpha\": [0, 0.5, 1],\n",
    "# }\n",
    "\n",
    "opt = ModelOptimizer(\n",
    "    name=\"xgboost\",\n",
    "    model=XGBClassifier(),\n",
    "    search_space=search_space,\n",
    "    search_method=SeachMethod.BAYES,\n",
    "    k_fold=5,\n",
    ")\n",
    "opt.train(x_train, y_train)\n",
    "opt.evaluate(x_test, y_test)\n",
    "print(opt.scores)"
   ]
  },
  {
   "cell_type": "code",
   "execution_count": 16,
   "metadata": {},
   "outputs": [],
   "source": [
    "## Results XGBoost\n",
    "## --------------------\n",
    "# ScoreClassification(\n",
    "#     accuracy=0.8890714285714286,\n",
    "#     precision=0.8912255257432923,\n",
    "#     recall=0.46694528875379937,\n",
    "#     f1=0.612814759411618,\n",
    "#     auc_roc=0.7268751778040637,\n",
    "#     kappa=0.5553323468373336,\n",
    "#     confusion_matrix=array([[11218, 150], [1403, 1229]]),\n",
    "# )\n",
    "\n",
    "# Best params: {'learning_rate': 0.5, 'max_depth': None, 'n_estimators': 10, 'reg_alpha': 0.5}\n",
    "# ScoreClassification(\n",
    "#     accuracy=0.8868571428571429,\n",
    "#     precision=0.8847283406754772,\n",
    "#     recall=0.45782674772036475,\n",
    "#     f1=0.6034051076614922,\n",
    "#     auc_roc=0.7220080255139474,\n",
    "#     kappa=0.5450743964194138,\n",
    "#     confusion_matrix=array([[11211, 157], [1427, 1205]]),\n",
    "# )\n",
    "\n",
    "# Best params: {'learning_rate': 0.1, 'max_depth': 1, 'n_estimators': 200, 'reg_alpha': 0.5}\n",
    "# ScoreClassification(\n",
    "#     accuracy=0.8547857142857143,\n",
    "#     precision=0.9009370816599732,\n",
    "#     recall=0.25569908814589665,\n",
    "#     f1=0.3983427049422906,\n",
    "#     auc_roc=0.6245947938970159,\n",
    "#     kappa=0.3437972866195328,\n",
    "#     confusion_matrix=array([[11294, 74], [1959, 673]]),\n",
    "# )\n",
    "\n",
    "# Best params: {'learning_rate': 0.5, 'max_depth': 1, 'n_estimators': 200, 'reg_alpha': 1}\n",
    "# ScoreClassification(\n",
    "#     accuracy=0.8654285714285714,\n",
    "#     precision=0.9065217391304348,\n",
    "#     recall=0.3168693009118541,\n",
    "#     f1=0.46959459459459457,\n",
    "#     auc_roc=0.6546521029541678,\n",
    "#     kappa=0.41236650364307814,\n",
    "#     confusion_matrix=array([[11282, 86], [1798, 834]]),\n",
    "# )\n",
    "\n",
    "# Best params: {'learning_rate': 0.1, 'max_depth': 10, 'n_estimators': 200, 'reg_alpha': 1}\n",
    "# ScoreClassification(\n",
    "#     accuracy=0.8872857142857142,\n",
    "#     precision=0.8818840579710145,\n",
    "#     recall=0.4623860182370821,\n",
    "#     f1=0.6066799601196411,\n",
    "#     auc_roc=0.7240237621093926,\n",
    "#     kappa=0.5482548552583364,\n",
    "#     confusion_matrix=array([[11205, 163], [1415, 1217]]),\n",
    "# )\n",
    "\n",
    "# Best params: OrderedDict({'learning_rate': 0.18869253516173146, 'max_depth': 4, 'n_estimators': 216, 'reg_alpha': 1})\n",
    "# ScoreClassification(\n",
    "#     accuracy=0.8885714285714286,\n",
    "#     precision=0.8884057971014493,\n",
    "#     recall=0.46580547112462006,\n",
    "#     f1=0.6111665004985045,\n",
    "#     auc_roc=0.7261293365475316,\n",
    "#     kappa=0.5534078417002565,\n",
    "#     confusion_matrix=array([[11214, 154], [1406, 1226]]),\n",
    "# )"
   ]
  },
  {
   "cell_type": "code",
   "execution_count": 17,
   "metadata": {},
   "outputs": [],
   "source": [
    "# from sklearn.ensemble import RandomForestClassifier\n",
    "# from utils.model import ModelOptimizer, SeachMethod\n",
    "\n",
    "# # Create the random grid\n",
    "# search_space = {\n",
    "#     \"n_estimators\": [400],  # based on other experiments\n",
    "#     \"max_features\": [\"sqrt\"],  # based on other experiments\n",
    "#     \"max_depth\": [40], # based on other experiments\n",
    "#     \"min_samples_split\": [2],  # based on other experiments\n",
    "#     \"min_samples_leaf\": [1],  # based on other experiments\n",
    "#     \"bootstrap\": [True],  # based on other experiments\n",
    "# }\n",
    "\n",
    "# opt = ModelOptimizer(\n",
    "#     name=\"random_forest\",\n",
    "#     model=RandomForestClassifier(),\n",
    "#     search_space=search_space,\n",
    "#     search_method=SeachMethod.GRID,\n",
    "#     k_fold=2,\n",
    "# )\n",
    "# opt.train(x_train, y_train)\n",
    "# opt.evaluate(x_test, y_test)\n",
    "# print(opt.scores)\n"
   ]
  },
  {
   "cell_type": "code",
   "execution_count": 18,
   "metadata": {},
   "outputs": [],
   "source": [
    "## Results Random Forest\n",
    "## --------------------\n",
    "# Best params: {'bootstrap': True, 'max_depth': 40, 'max_features': 'sqrt', 'min_samples_leaf': 1, 'min_samples_split': 2, 'n_estimators': 400}\n",
    "# ScoreClassification(\n",
    "#     accuracy=0.8892857142857142,\n",
    "#     precision=0.8948905109489051,\n",
    "#     recall=0.46580547112462006,\n",
    "#     f1=0.6126936531734134,\n",
    "#     auc_roc=0.7265691676523874,\n",
    "#     kappa=0.5554765291607398,\n",
    "#     confusion_matrix=array([[11224, 144], [1406, 1226]]),\n",
    "# )\n",
    "# ScoreClassification(\n",
    "#     accuracy=0.8892857142857142,\n",
    "#     precision=0.8948905109489051,\n",
    "#     recall=0.46580547112462006,\n",
    "#     f1=0.6126936531734134,\n",
    "#     auc_roc=0.7265691676523874,\n",
    "#     kappa=0.5554765291607398,\n",
    "#     confusion_matrix=array([[11224, 144], [1406, 1226]]),\n",
    "# )\n",
    "\n",
    "# Best params: {'bootstrap': True, 'max_depth': 40, 'max_features': 'sqrt', 'min_samples_leaf': 1, 'min_samples_split': 2, 'n_estimators': 100}\n",
    "# ScoreClassification(\n",
    "#     accuracy=0.8866428571428572,\n",
    "#     precision=0.891972993248312,\n",
    "#     recall=0.45174772036474165,\n",
    "#     f1=0.5997477931904162,\n",
    "#     auc_roc=0.7195402922724484,\n",
    "#     kappa=0.5418316111360035,\n",
    "#     confusion_matrix=array([[11224, 144], [1443, 1189]]),\n",
    "# )\n",
    "\n",
    "# Best params: {'bootstrap': True, 'max_depth': None, 'max_features': 'sqrt', 'min_samples_leaf': 1, 'min_samples_split': 2, 'n_estimators': 400}\n",
    "# ScoreClassification(\n",
    "#     accuracy=0.8707857142857143,\n",
    "#     precision=0.7377238590410168,\n",
    "#     recall=0.4851823708206687,\n",
    "#     f1=0.5853770341508137,\n",
    "#     auc_roc=0.722622853249884,\n",
    "#     kappa=0.5126805425651592,\n",
    "#     confusion_matrix=array([[10914, 454], [1355, 1277]]),\n",
    "# )\n",
    "\n",
    "# Best params: {'bootstrap': True, 'max_depth': 100, 'max_features': 'sqrt', 'min_samples_leaf': 1, 'min_samples_split': 2, 'n_estimators': 400}\n",
    "# ScoreClassification(\n",
    "#     accuracy=0.8678571428571429,\n",
    "#     precision=0.7196629213483146,\n",
    "#     recall=0.4867021276595745,\n",
    "#     f1=0.5806890299184043,\n",
    "#     auc_roc=0.721403491697486,\n",
    "#     kappa=0.5057070793433653,\n",
    "#     confusion_matrix=array([[10869, 499], [1351, 1281]]),\n",
    "# )\n",
    "\n",
    "# Best params: {'bootstrap': True, 'max_depth': None, 'max_features': 'sqrt', 'min_samples_leaf': 1, 'min_samples_split': 2, 'n_estimators': 400}\n",
    "# ScoreClassification(\n",
    "#     accuracy=0.8724285714285714,\n",
    "#     precision=0.7411630558722919,\n",
    "#     recall=0.4939209726443769,\n",
    "#     f1=0.5927952576379388,\n",
    "#     auc_roc=0.7269921541617381,\n",
    "#     kappa=0.5207293929739896,\n",
    "#     confusion_matrix=array([[10914, 454], [1332, 1300]]),\n",
    "# )\n",
    "\n",
    "# Best params: {'bootstrap': True, 'max_depth': 100, 'max_features': 'sqrt', 'min_samples_leaf': 1, 'min_samples_split': 2, 'n_estimators': 400}\n",
    "# ScoreClassification(\n",
    "#     accuracy=0.8743571428571428,\n",
    "#     precision=0.7539267015706806,\n",
    "#     recall=0.49240121580547114,\n",
    "#     f1=0.5957251206619167,\n",
    "#     auc_roc=0.727595752167338,\n",
    "#     kappa=0.5251920826117189,\n",
    "#     confusion_matrix=array([[10945, 423], [1336, 1296]]),\n",
    "# )\n",
    "\n",
    "# Best params: {'bootstrap': True, 'max_depth': 40, 'max_features': 'sqrt', 'min_samples_leaf': 1, 'min_samples_split': 2, 'n_estimators': 400}\n",
    "# ScoreClassification(\n",
    "#     accuracy=0.8886428571428572,\n",
    "#     precision=0.8953574060427414,\n",
    "#     recall=0.4616261398176292,\n",
    "#     f1=0.6091752318876912,\n",
    "#     auc_roc=0.7245674682198632,\n",
    "#     kappa=0.551852839855949,\n",
    "#     confusion_matrix=array([[11226, 142], [1417, 1215]]),\n",
    "# )"
   ]
  }
 ],
 "metadata": {
  "kernelspec": {
   "display_name": "phd",
   "language": "python",
   "name": "python3"
  },
  "language_info": {
   "codemirror_mode": {
    "name": "ipython",
    "version": 3
   },
   "file_extension": ".py",
   "mimetype": "text/x-python",
   "name": "python",
   "nbconvert_exporter": "python",
   "pygments_lexer": "ipython3",
   "version": "3.12.0"
  }
 },
 "nbformat": 4,
 "nbformat_minor": 2
}
